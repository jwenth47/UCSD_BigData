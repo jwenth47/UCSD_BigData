{
 "metadata": {
  "name": "",
  "signature": "sha256:50b7f639323e70bda1aa764233fb90d5d188b072592844c3b2887f7820947330"
 },
 "nbformat": 3,
 "nbformat_minor": 0,
 "worksheets": [
  {
   "cells": [
    {
     "cell_type": "heading",
     "level": 1,
     "metadata": {},
     "source": [
      "**Climate classification**"
     ]
    },
    {
     "cell_type": "markdown",
     "metadata": {},
     "source": [
      "In this notebook, we want to do climate classification by using 2 techinques\n",
      "\n",
      "1. Partitioning and merging using the idea of KD trees.\n",
      "2. K-means clustering by using the datas of mean temperature, temperature difference, latitude, elevation and average perception\n",
      "\n",
      "The "
     ]
    },
    {
     "cell_type": "heading",
     "level": 3,
     "metadata": {},
     "source": [
      "**Section 1**\n",
      "Partition and merging"
     ]
    },
    {
     "cell_type": "code",
     "collapsed": false,
     "input": [],
     "language": "python",
     "metadata": {},
     "outputs": []
    }
   ],
   "metadata": {}
  }
 ]
}