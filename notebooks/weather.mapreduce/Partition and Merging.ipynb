{
 "metadata": {
  "name": "",
  "signature": "sha256:fa30eb0b253491cacbd1cfb33c80933e88fe38f8aefa6477c2ae015c28674234"
 },
 "nbformat": 3,
 "nbformat_minor": 0,
 "worksheets": [
  {
   "cells": [
    {
     "cell_type": "heading",
     "level": 1,
     "metadata": {},
     "source": [
      "**Climate classification**"
     ]
    },
    {
     "cell_type": "markdown",
     "metadata": {},
     "source": [
      "In this notebook, we want to do climate classification by using 2 techinques\n",
      "\n",
      "1. Partitioning and merging using the idea of KD trees.\n",
      "2. K-means clustering by using the datas of mean temperature, temperature difference, latitude, elevation and average perception"
     ]
    },
    {
     "cell_type": "heading",
     "level": 2,
     "metadata": {},
     "source": [
      "**K\u00f6ppen climate classification**"
     ]
    },
    {
     "cell_type": "markdown",
     "metadata": {},
     "source": [
      "Following picture shows the most widely used climate classification. For example, **Dfa** with light blue indicates the **Hot summer continental climates**. It contains Boston, Chicago in US. It is a climatic region typified by large seasonal temperature differences, with warm to hot (and often humid) summers and cold (sometimes severely cold) winters. **Mediterranean climates** labeled as **CSa/CSb** is very different, warm summer and mild winters but relatively dry, like San Diego.\n",
      "\n",
      "The idea of partitioning and merging is to combine the region with similar weather types (based on variation explains). This is actually match the goal of climate classification. We expect the result after merging, we are able to get the classification of the climate in some sense.\n",
      "\n",
      "For more information of K\u00f6ppen climate classification, pleace check on http://en.wikipedia.org/wiki/K%C3%B6ppen_climate_classification\n",
      "\n",
      "![Bilby Stampede](http://upload.wikimedia.org/wikipedia/commons/thumb/b/bb/Koppen_World_Map_%28retouched_version%29.png/1024px-Koppen_World_Map_%28retouched_version%29.png)"
     ]
    },
    {
     "cell_type": "heading",
     "level": 2,
     "metadata": {},
     "source": [
      "**Life Zone Classification system**"
     ]
    },
    {
     "cell_type": "markdown",
     "metadata": {},
     "source": [
      "Beside the well-known K\u00f6ppen climate classification, Life Zone Classification system is based on the latitude, elevation and humidity (check on following picture). In this case, we can just apply K-means clustering algorithm to do climate classification. We employ more informations, which include: \n",
      "\n",
      "1. Mean temperature over the year\n",
      "2. Temperature difference\n",
      "3. Latitude\n",
      "4. Elevation\n",
      "5. Average perception over the year\n",
      "\n",
      "![Bilby Stampede](http://upload.wikimedia.org/wikipedia/commons/thumb/c/cb/Lifezones_Pengo.svg/987px-Lifezones_Pengo.svg.png)"
     ]
    },
    {
     "cell_type": "markdown",
     "metadata": {},
     "source": [
      "We organize our notebook as follows:\n",
      "\n",
      "In section 1, we have done following work:\n",
      "\n",
      "1. Improved partition algorithm (in 2 ways)\n",
      "2. Improved merging algorithm\n",
      "\n",
      "In section 2, we use K-means algorithm to study climate classification. In section 3 we compare the results between original K\u00f6ppen climate classification, classification we get using partitioning and merging, and classification using K-means."
     ]
    },
    {
     "cell_type": "heading",
     "level": 1,
     "metadata": {},
     "source": [
      "**Section 1**\n",
      "Partition and merging"
     ]
    },
    {
     "cell_type": "code",
     "collapsed": false,
     "input": [
      "import pandas as pd\n",
      "import numpy as np\n",
      "import sklearn as sk\n",
      "print 'pandas version: ',pd.__version__\n",
      "print 'numpy version:',np.__version__\n",
      "print 'sklearn version:',sk.__version__\n",
      "import pickle\n",
      "import gzip"
     ],
     "language": "python",
     "metadata": {},
     "outputs": [],
     "prompt_number": 0
    },
    {
     "cell_type": "code",
     "collapsed": false,
     "input": [
      "import sys\n",
      "home_dir='/home/ubuntu/panagosg7'\n",
      "sys.path.append(home_dir+'/utils')\n",
      "from find_waiting_flow import *\n",
      "from AWS_keypair_management import *"
     ],
     "language": "python",
     "metadata": {},
     "outputs": []
    }
   ],
   "metadata": {}
  }
 ]
}